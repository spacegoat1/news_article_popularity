{
 "cells": [
  {
   "cell_type": "markdown",
   "id": "bc4a8082-6b2c-4d48-9212-b047ea694a97",
   "metadata": {},
   "source": [
    "### Feature Selection"
   ]
  },
  {
   "cell_type": "markdown",
   "id": "aaca2230-bb30-4047-8151-f407a1c5239a",
   "metadata": {},
   "source": [
    "Feature selection is not being implemented since the number of observations (39,644 overall, 31,715 in training) is much larger than the number of features (58 overall, 60). "
   ]
  },
  {
   "cell_type": "markdown",
   "id": "38db4e82-3987-4ef6-bc84-7ef985d92a10",
   "metadata": {},
   "source": [
    "For completeness, the F score (linear dependency) and the mutual information score (non-linear dependency) for each feature is being calculated for reference. This is not being included in the report. "
   ]
  },
  {
   "cell_type": "code",
   "execution_count": 1,
   "id": "86b373ed-32fa-46b0-98f5-2f5fc457a498",
   "metadata": {},
   "outputs": [],
   "source": [
    "from project_paths import *\n",
    "\n",
    "from sklearn.feature_selection import f_classif, mutual_info_classif\n",
    "import pandas as pd"
   ]
  },
  {
   "cell_type": "code",
   "execution_count": 4,
   "id": "ceaf7b8f-dfd8-4e3f-9dfb-20357e07780c",
   "metadata": {},
   "outputs": [],
   "source": [
    "# Load preprocessed data\n",
    "X_train = load_preprocessed_data(preprocessed_data_path_train)\n",
    "y_train = load_preprocessed_data(preprocessed_data_y_train)\n",
    "all_features_pp = load_list_from_pkl('processed_features_list.pkl')"
   ]
  },
  {
   "cell_type": "code",
   "execution_count": 8,
   "id": "7b720f1b-84f3-40af-ae7e-b6b8743343ed",
   "metadata": {},
   "outputs": [
    {
     "name": "stdout",
     "output_type": "stream",
     "text": [
      "Linear correlations between features and target:\n",
      "x0_Business  :  1.9821534137585748\n",
      "x0_Entertainment  :  398.51892432385523\n",
      "x0_Lifestyle  :  48.495560897342095\n",
      "x0_No_data_channel  :  304.47369808265097\n",
      "x0_Social Media  :  418.58225419804654\n",
      "x0_Tech  :  284.1082390363232\n",
      "x0_World  :  740.7373607818726\n",
      "x1_0.0  :  621.8362968564277\n",
      "x1_1.0  :  621.8362968564348\n",
      "x2_Friday  :  1.728267237215165\n",
      "x2_Monday  :  17.307239993355783\n",
      "x2_Saturday  :  379.49894897341835\n",
      "x2_Sunday  :  209.78133614081128\n",
      "x2_Thursday  :  15.918246676221484\n",
      "x2_Tuesday  :  51.94248425523417\n",
      "x2_Wednesday  :  54.5103875367296\n",
      "n_tokens_title  :  63.68545407362967\n",
      "average_token_length  :  25.09076316466873\n",
      "num_keywords  :  147.45206335044114\n",
      "LDA_00  :  126.2322862321775\n",
      "LDA_01  :  169.04683306053383\n",
      "LDA_02  :  793.2809924385907\n",
      "LDA_03  :  114.81125577474629\n",
      "LDA_04  :  254.94411261830112\n",
      "title_subjectivity  :  49.693606302960475\n",
      "title_sentiment_polarity  :  103.53079984369735\n",
      "abs_title_subjectivity  :  0.0008676827307222182\n",
      "abs_title_sentiment_polarity  :  64.83411672992715\n",
      "n_tokens_content  :  41.15111570592348\n",
      "n_unique_tokens  :  0.5500748180427736\n",
      "n_non_stop_words  :  0.8378273389943198\n",
      "n_non_stop_unique_tokens  :  0.37765604059343577\n",
      "num_hrefs  :  239.004942754046\n",
      "num_self_hrefs  :  32.51096921432201\n",
      "num_imgs  :  117.52259791757466\n",
      "num_videos  :  5.760461256363149\n",
      "kw_min_min  :  94.14372816524401\n",
      "kw_max_min  :  40.644199485741055\n",
      "kw_avg_min  :  68.18822555047042\n",
      "kw_min_max  :  5.679685850533614\n",
      "kw_max_max  :  52.5657385150072\n",
      "kw_avg_max  :  6.362469417526749\n",
      "kw_min_avg  :  271.0993550590021\n",
      "kw_max_avg  :  209.48430135318145\n",
      "kw_avg_avg  :  895.3877958211976\n",
      "self_reference_min_shares  :  103.93521204084887\n",
      "self_reference_max_shares  :  110.15856588851615\n",
      "self_reference_avg_sharess  :  144.0462052384641\n",
      "global_subjectivity  :  140.48161704711694\n",
      "global_sentiment_polarity  :  149.98663422504032\n",
      "global_rate_positive_words  :  108.22299948643395\n",
      "global_rate_negative_words  :  15.781048614052773\n",
      "rate_positive_words  :  44.81264210141037\n",
      "rate_negative_words  :  139.0197181784604\n",
      "avg_positive_polarity  :  25.337717160030298\n",
      "min_positive_polarity  :  15.338258036541868\n",
      "max_positive_polarity  :  58.05678235168503\n",
      "avg_negative_polarity  :  0.823898506202263\n",
      "min_negative_polarity  :  0.01934648529542715\n",
      "max_negative_polarity  :  0.09078980862254127\n"
     ]
    }
   ],
   "source": [
    "# Finding linear f_classif and printing f test values\n",
    "f_test, p_values = f_classif(X_train, y_train)\n",
    "print(\"Linear correlations between features and target:\")\n",
    "for f, l in zip(f_test, all_features_pp):\n",
    "    print(l, \" : \", f)"
   ]
  },
  {
   "cell_type": "code",
   "execution_count": 26,
   "id": "01d2c0b3-ee65-45c7-90aa-d06224a6aec5",
   "metadata": {},
   "outputs": [
    {
     "data": {
      "text/plain": [
       "[(895.3877958211976, 'kw_avg_avg'),\n",
       " (793.2809924385907, 'LDA_02'),\n",
       " (740.7373607818726, 'x0_World'),\n",
       " (621.8362968564348, 'x1_1.0'),\n",
       " (621.8362968564277, 'x1_0.0'),\n",
       " (418.58225419804654, 'x0_Social Media'),\n",
       " (398.51892432385523, 'x0_Entertainment'),\n",
       " (379.49894897341835, 'x2_Saturday'),\n",
       " (304.47369808265097, 'x0_No_data_channel'),\n",
       " (284.1082390363232, 'x0_Tech')]"
      ]
     },
     "execution_count": 26,
     "metadata": {},
     "output_type": "execute_result"
    }
   ],
   "source": [
    "linear_scores = [(x, y) for x, y in zip(f_test, all_features_pp)]\n",
    "linear_scores.sort(key=lambda k: -k[0])\n",
    "linear_scores[:10]"
   ]
  },
  {
   "cell_type": "code",
   "execution_count": 9,
   "id": "f0b0a03c-e29d-4854-b1c2-a6ae31659cd9",
   "metadata": {},
   "outputs": [
    {
     "name": "stdout",
     "output_type": "stream",
     "text": [
      "Non-linear correlations between features and target:\n",
      "x0_Business  :  0.0\n",
      "x0_Entertainment  :  0.008304822443002902\n",
      "x0_Lifestyle  :  0.00147227583761822\n",
      "x0_No_data_channel  :  0.008678933505772202\n",
      "x0_Social Media  :  0.008497602545643135\n",
      "x0_Tech  :  0.0070146489985516425\n",
      "x0_World  :  0.01063662409742916\n",
      "x1_0.0  :  0.012537952390572427\n",
      "x1_1.0  :  0.006653541870363933\n",
      "x2_Friday  :  0.00023753172877749584\n",
      "x2_Monday  :  0.0038459111496298437\n",
      "x2_Saturday  :  0.007189345410125281\n",
      "x2_Sunday  :  0.005160273458537201\n",
      "x2_Thursday  :  0.004815685942957781\n",
      "x2_Tuesday  :  0.003083994380005395\n",
      "x2_Wednesday  :  0.0\n",
      "n_tokens_title  :  0.0\n",
      "average_token_length  :  0.001499676718353271\n",
      "num_keywords  :  1.7115050843674595e-05\n",
      "LDA_00  :  0.0196412425372976\n",
      "LDA_01  :  0.02482106611361634\n",
      "LDA_02  :  0.03544867103738181\n",
      "LDA_03  :  0.02225815582039181\n",
      "LDA_04  :  0.023051871657786105\n",
      "title_subjectivity  :  0.0065299170555983554\n",
      "title_sentiment_polarity  :  0.004213060217826525\n",
      "abs_title_subjectivity  :  0.0040776622280565\n",
      "abs_title_sentiment_polarity  :  0.006927899532724657\n",
      "n_tokens_content  :  0.0011687652302421192\n",
      "n_unique_tokens  :  0.0021720551270696387\n",
      "n_non_stop_words  :  0.00019715508505213641\n",
      "n_non_stop_unique_tokens  :  0.0008685738801885723\n",
      "num_hrefs  :  0.004161622105871565\n",
      "num_self_hrefs  :  0.0009796261430901065\n",
      "num_imgs  :  0.008643422335104622\n",
      "num_videos  :  0.007733317550704832\n",
      "kw_min_min  :  0.0042617124883941315\n",
      "kw_max_min  :  0.02274586757727004\n",
      "kw_avg_min  :  0.011299436369504257\n",
      "kw_min_max  :  0.012499556622608488\n",
      "kw_max_max  :  0.006346349540745644\n",
      "kw_avg_max  :  0.011181951039644256\n",
      "kw_min_avg  :  0.01992405073122261\n",
      "kw_max_avg  :  0.03440798202419848\n",
      "kw_avg_avg  :  0.02513913091568476\n",
      "self_reference_min_shares  :  0.02114846288203398\n",
      "self_reference_max_shares  :  0.0219413628389169\n",
      "self_reference_avg_sharess  :  0.026289865089594855\n",
      "global_subjectivity  :  0.008040138316732781\n",
      "global_sentiment_polarity  :  0.004011464214878524\n",
      "global_rate_positive_words  :  0.005951935553420773\n",
      "global_rate_negative_words  :  0.0014601068252380056\n",
      "rate_positive_words  :  0.005298896759332594\n",
      "rate_negative_words  :  0.0030906816771580914\n",
      "avg_positive_polarity  :  0.005900260471332297\n",
      "min_positive_polarity  :  0.006024700540041783\n",
      "max_positive_polarity  :  0.003207124522479843\n",
      "avg_negative_polarity  :  0.0\n",
      "min_negative_polarity  :  0.0047544803824075554\n",
      "max_negative_polarity  :  0.0030742097860119166\n"
     ]
    }
   ],
   "source": [
    "# Then non-linear correlations\n",
    "mi = mutual_info_classif(X_train, y_train)\n",
    "print(\"Non-linear correlations between features and target:\")\n",
    "for m, l in zip(mi, all_features_pp):\n",
    "    print(l, \" : \", m)"
   ]
  },
  {
   "cell_type": "code",
   "execution_count": 27,
   "id": "1e40b369-4654-4b9d-88d1-cdd6405117ca",
   "metadata": {},
   "outputs": [
    {
     "data": {
      "text/plain": [
       "[(0.03544867103738181, 'LDA_02'),\n",
       " (0.03440798202419848, 'kw_max_avg'),\n",
       " (0.026289865089594855, 'self_reference_avg_sharess'),\n",
       " (0.02513913091568476, 'kw_avg_avg'),\n",
       " (0.02482106611361634, 'LDA_01'),\n",
       " (0.023051871657786105, 'LDA_04'),\n",
       " (0.02274586757727004, 'kw_max_min'),\n",
       " (0.02225815582039181, 'LDA_03'),\n",
       " (0.0219413628389169, 'self_reference_max_shares'),\n",
       " (0.02114846288203398, 'self_reference_min_shares')]"
      ]
     },
     "execution_count": 27,
     "metadata": {},
     "output_type": "execute_result"
    }
   ],
   "source": [
    "nonlinear_scores = [(x, y) for x, y in zip(mi, all_features_pp)]\n",
    "nonlinear_scores.sort(key=lambda k: -k[0])\n",
    "nonlinear_scores[:10]"
   ]
  },
  {
   "cell_type": "code",
   "execution_count": null,
   "id": "dcb7cdba-1bc9-4008-8062-e0cb551b8b1e",
   "metadata": {},
   "outputs": [],
   "source": []
  }
 ],
 "metadata": {
  "kernelspec": {
   "display_name": "Python 3 (ipykernel)",
   "language": "python",
   "name": "python3"
  },
  "language_info": {
   "codemirror_mode": {
    "name": "ipython",
    "version": 3
   },
   "file_extension": ".py",
   "mimetype": "text/x-python",
   "name": "python",
   "nbconvert_exporter": "python",
   "pygments_lexer": "ipython3",
   "version": "3.9.7"
  }
 },
 "nbformat": 4,
 "nbformat_minor": 5
}
