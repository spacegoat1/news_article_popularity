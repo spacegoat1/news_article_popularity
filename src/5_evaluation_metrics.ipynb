{
 "cells": [
  {
   "cell_type": "markdown",
   "id": "dbbdf296-0ea1-4fcd-80e2-54645f49f044",
   "metadata": {},
   "source": [
    "This is a classification problem. With this in mind, we will use the following metrics/data to evaluate each ML model:"
   ]
  },
  {
   "cell_type": "markdown",
   "id": "d231c2ae-7177-464e-ae08-d711f1596783",
   "metadata": {},
   "source": [
    "1. Confusion matrix\n",
    "2. Accuracy\n",
    "3. Precision\n",
    "4. Recall\n",
    "5. F-beta score for different values of beta (0.5, 1, 1.5)"
   ]
  },
  {
   "cell_type": "markdown",
   "id": "ae3f3135-f5fd-4b94-acfd-341013992033",
   "metadata": {},
   "source": [
    "Calculate each of these metrics for:\n",
    "1. Each trained model\n",
    "2. Baseline model"
   ]
  },
  {
   "cell_type": "markdown",
   "id": "0d6d709a-c18c-465a-b1ca-8c05d866b259",
   "metadata": {},
   "source": [
    "Summarize these values in a table"
   ]
  },
  {
   "cell_type": "markdown",
   "id": "5d2ef443-2799-4ee3-815b-d13493001858",
   "metadata": {},
   "source": [
    "The metric that will be maximized is the f-beta score"
   ]
  },
  {
   "cell_type": "code",
   "execution_count": null,
   "id": "befc9e36-8e0b-49ae-abe3-2d1671d3b6b2",
   "metadata": {},
   "outputs": [],
   "source": []
  }
 ],
 "metadata": {
  "kernelspec": {
   "display_name": "Python 3 (ipykernel)",
   "language": "python",
   "name": "python3"
  },
  "language_info": {
   "codemirror_mode": {
    "name": "ipython",
    "version": 3
   },
   "file_extension": ".py",
   "mimetype": "text/x-python",
   "name": "python",
   "nbconvert_exporter": "python",
   "pygments_lexer": "ipython3",
   "version": "3.9.7"
  }
 },
 "nbformat": 4,
 "nbformat_minor": 5
}
