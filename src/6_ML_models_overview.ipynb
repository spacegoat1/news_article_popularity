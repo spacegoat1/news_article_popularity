{
 "cells": [
  {
   "cell_type": "markdown",
   "id": "7a5a4947-8781-482c-b02d-71949f227b57",
   "metadata": {},
   "source": [
    "Since this is a classification problem, the following models can be used:\n",
    "1. Logistic regression - hyperparameters: none, but consider using ridge/lasso -> C becomes a parameter (3 models - no reg, ridge, lasso)\n",
    "2. Random Forest - hyperparameters: max_depth and max_features\n",
    "3. Support vector classification: kernel = rbf -> gamma and C\n",
    "4. KNN: k\n",
    "5. AdaBoost: n_estimators, learning_rate\n",
    "6. XGBoost -> Do this one as well"
   ]
  },
  {
   "cell_type": "markdown",
   "id": "1481b6a7-c0a8-497f-a228-e28611bc9da8",
   "metadata": {},
   "source": [
    "To ask TA: Which models should be implemented?\n",
    "\n",
    "Logistic regression (no reg, lasso, ridge), random forest and SVC seem to be obvious choices."
   ]
  },
  {
   "cell_type": "markdown",
   "id": "8a52f4e5-4f03-4ffe-80f2-f21265164cd0",
   "metadata": {},
   "source": [
    "A baseline model will be developed for comparison"
   ]
  },
  {
   "cell_type": "markdown",
   "id": "5b795a91-2b1b-405c-a714-04445db7040e",
   "metadata": {},
   "source": [
    "#### To ask TA: \n",
    "- Which models should be implemented?"
   ]
  },
  {
   "cell_type": "markdown",
   "id": "ea8dbb32-3fd3-46c0-a7e6-aba08b220210",
   "metadata": {},
   "source": [
    "#### To ask TA:\n",
    "Should I setup a function similar to what we are doing in the exercise that will do the following (to find best hyperparameters for each ML model)?:\n",
    "\n",
    "Take the unprocessed feature matrix, target variable, a preprocessor (ColumnTransformer), an initialized ML algorithm, and a correspondig parameter grid as inputs. Inside the function, split the data. Then preprocess the data and perform cross validation (I recommend you use GridSearchCV), then calculate the validation score. \n",
    "Repeat this 10 times for 10 different random states, and the function should return the 10 best models and the 10 validation scores. "
   ]
  },
  {
   "cell_type": "code",
   "execution_count": null,
   "id": "b2af5151-6352-45f3-bac8-62db8a25d76c",
   "metadata": {},
   "outputs": [],
   "source": []
  }
 ],
 "metadata": {
  "kernelspec": {
   "display_name": "Python 3 (ipykernel)",
   "language": "python",
   "name": "python3"
  },
  "language_info": {
   "codemirror_mode": {
    "name": "ipython",
    "version": 3
   },
   "file_extension": ".py",
   "mimetype": "text/x-python",
   "name": "python",
   "nbconvert_exporter": "python",
   "pygments_lexer": "ipython3",
   "version": "3.9.7"
  }
 },
 "nbformat": 4,
 "nbformat_minor": 5
}
