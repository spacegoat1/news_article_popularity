{
 "cells": [
  {
   "cell_type": "code",
   "execution_count": 11,
   "id": "5841cfc9-010c-4fe8-8b6f-97c972a98962",
   "metadata": {},
   "outputs": [],
   "source": [
    "from project_paths import *\n",
    "\n",
    "import pandas as pd\n",
    "import numpy as np\n",
    "import matplotlib.pyplot as plt\n",
    "\n",
    "from sklearn.model_selection import train_test_split, GroupShuffleSplit, GridSearchCV, KFold, ParameterGrid\n",
    "from sklearn.metrics import make_scorer, fbeta_score, accuracy_score"
   ]
  },
  {
   "cell_type": "markdown",
   "id": "18544b8a-c2a0-42fa-adfd-515680f9fe90",
   "metadata": {},
   "source": [
    "First, we use the test scores of the models evaluated on all the different sets to plot a figure that shows us their performance and then use that to decide the best model to handle this dataset. "
   ]
  },
  {
   "cell_type": "code",
   "execution_count": 4,
   "id": "30f1f3f9-57f5-4f29-a057-e1df453d3cda",
   "metadata": {},
   "outputs": [],
   "source": [
    "MODEL_EVALUATIONS = load_list_from_pkl(MODEL_EVALUATIONS_PICKLE)"
   ]
  },
  {
   "cell_type": "code",
   "execution_count": 5,
   "id": "d053bca9-0c59-44a5-a25b-c0b6f6eb4103",
   "metadata": {},
   "outputs": [
    {
     "data": {
      "text/plain": [
       "dict_keys(['best_models', 'test_scores', 'cv_results'])"
      ]
     },
     "execution_count": 5,
     "metadata": {},
     "output_type": "execute_result"
    }
   ],
   "source": [
    "MODEL_EVALUATIONS['ridge'].keys()"
   ]
  },
  {
   "cell_type": "code",
   "execution_count": 19,
   "id": "b2cc0991-80e9-4183-8f68-8d6c4e763c3e",
   "metadata": {},
   "outputs": [],
   "source": [
    "error_bar_data = {}\n",
    "models = []\n",
    "for m in MODEL_EVALUATIONS.keys():\n",
    "    models.append(m)\n",
    "    error_bar_data[m] = {}\n",
    "    error_bar_data[m]['data'] = np.array(MODEL_EVALUATIONS[m]['test_scores'])\n",
    "    error_bar_data[m]['mean'] = np.mean(np.array(MODEL_EVALUATIONS[m]['test_scores']))\n",
    "    error_bar_data[m]['std'] = np.std(np.array(MODEL_EVALUATIONS[m]['test_scores']))\n",
    "error_bar_data\n",
    "\n",
    "x_pos = np.arange(len(models))\n",
    "fbeta_15s = [error_bar_data[m]['mean'] for m in models]\n",
    "error = [error_bar_data[m]['std'] for m in models]\n",
    "model_names = {\n",
    "    'logistic_regression': 'Logistic',\n",
    "    'lasso': 'Lasso Regression',\n",
    "    'xgboost': 'XGBoost',\n",
    "    'random_forest': 'Random Forest',\n",
    "    'ridge': 'Ridge Regression',\n",
    "    'KNN': 'KNN',\n",
    "}"
   ]
  },
  {
   "cell_type": "code",
   "execution_count": 25,
   "id": "5c4ce11d-b7a5-402c-b2cd-035f91e37c47",
   "metadata": {},
   "outputs": [
    {
     "data": {
      "image/png": "[encoded data removed]",
      "text/plain": [
       "<Figure size 432x288 with 1 Axes>"
      ]
     },
     "metadata": {
      "needs_background": "light"
     },
     "output_type": "display_data"
    }
   ],
   "source": [
    "# Build the plot\n",
    "fig, ax = plt.subplots()\n",
    "ax.bar(x_pos, fbeta_15s, yerr=error, align='center', alpha=0.5, ecolor='black', capsize=10)\n",
    "ax.set_ylabel('F-Beta score')\n",
    "ax.set_xticks(x_pos)\n",
    "ax.set_xticklabels([model_names[x] for x in models])\n",
    "ax.set_title('F-Beta score (Beta=1.5) for different models')\n",
    "ax.set_ylim(bottom=0.5)\n",
    "ax.yaxis.grid(True)\n",
    "\n",
    "# Save the figure and show\n",
    "plt.tight_layout()\n",
    "plt.savefig(figures_dir + 'bar_plot_with_error_bars.png')\n",
    "plt.show()"
   ]
  },
  {
   "cell_type": "markdown",
   "id": "a42f491b-a732-4589-a44e-efc45db8e722",
   "metadata": {},
   "source": [
    "The XGBoost model had the highest test set performance and was chosen as the model of choice. The best set of parameters were selected as the parameters that performed the best on a holdout set."
   ]
  },
  {
   "cell_type": "code",
   "execution_count": 35,
   "id": "8c55b392-665f-4ed4-9baf-9cf97611dd96",
   "metadata": {},
   "outputs": [],
   "source": [
    "# set(MODEL_EVALUATIONS['xgboost']['best_models'])"
   ]
  },
  {
   "cell_type": "markdown",
   "id": "718a9fb9-ad7e-4c6f-92de-17136e3789c3",
   "metadata": {},
   "source": [
    "After choosing the best model and hyperparameter choice, the model was retrained on new splits over 10 new random states. For each split, 80% of the data was allocated to training and 20% was allocated to testing. For each random state, the preprocessed test set, model, and baseline accuracy score were recorded."
   ]
  },
  {
   "cell_type": "code",
   "execution_count": null,
   "id": "f30652b1-49b7-4485-8b9d-adfd90a9d5e9",
   "metadata": {},
   "outputs": [],
   "source": []
  }
 ],
 "metadata": {
  "kernelspec": {
   "display_name": "Python 3 (ipykernel)",
   "language": "python",
   "name": "python3"
  },
  "language_info": {
   "codemirror_mode": {
    "name": "ipython",
    "version": 3
   },
   "file_extension": ".py",
   "mimetype": "text/x-python",
   "name": "python",
   "nbconvert_exporter": "python",
   "pygments_lexer": "ipython3",
   "version": "3.9.7"
  }
 },
 "nbformat": 4,
 "nbformat_minor": 5
}
