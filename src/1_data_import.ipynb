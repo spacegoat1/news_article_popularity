{
 "cells": [
  {
   "cell_type": "code",
   "execution_count": 10,
   "id": "8bb6d116-4d55-4f07-9bc4-d94cb02c95e5",
   "metadata": {},
   "outputs": [],
   "source": [
    "from project_paths import *"
   ]
  },
  {
   "cell_type": "code",
   "execution_count": 11,
   "id": "4c38928f-5e99-4d8a-9194-1e08f1fe830b",
   "metadata": {},
   "outputs": [],
   "source": [
    "# First, we get the list of features and save it into a CSV - the below string has been procured from a data description file supplied with the dataset\n",
    "\n",
    "data_str = \"\"\"url;URL of the article\n",
    "timedelta;Days between the article publication and the dataset acquisition\n",
    "n_tokens_title;Number of words in the title\n",
    "n_tokens_content;Number of words in the content\n",
    "n_unique_tokens;Rate of unique words in the content\n",
    "n_non_stop_words;Rate of non-stop words in the content\n",
    "n_non_stop_unique_tokens;Rate of unique non-stop words in the content\n",
    "num_hrefs;Number of links\n",
    "num_self_hrefs;Number of links to other articles published by Mashable\n",
    "num_imgs;Number of images\n",
    "num_videos;Number of videos\n",
    "average_token_length;Average length of the words in the content\n",
    "num_keywords;Number of keywords in the metadata\n",
    "data_channel_is_lifestyle;Is data channel 'Lifestyle'?\n",
    "data_channel_is_entertainment;Is data channel 'Entertainment'?\n",
    "data_channel_is_bus;Is data channel 'Business'?\n",
    "data_channel_is_socmed;Is data channel 'Social Media'?\n",
    "data_channel_is_tech;Is data channel 'Tech'?\n",
    "data_channel_is_world;Is data channel 'World'?\n",
    "kw_min_min;Worst keyword (min. shares)\n",
    "kw_max_min;Worst keyword (max. shares)\n",
    "kw_avg_min;Worst keyword (avg. shares)\n",
    "kw_min_max;Best keyword (min. shares)\n",
    "kw_max_max;Best keyword (max. shares)\n",
    "kw_avg_max;Best keyword (avg. shares)\n",
    "kw_min_avg;Avg. keyword (min. shares)\n",
    "kw_max_avg;Avg. keyword (max. shares)\n",
    "kw_avg_avg;Avg. keyword (avg. shares)\n",
    "self_reference_min_shares;Min. shares of referenced articles in Mashable\n",
    "self_reference_max_shares;Max. shares of referenced articles in Mashable\n",
    "self_reference_avg_sharess;Avg. shares of referenced articles in Mashable\n",
    "weekday_is_monday;Was the article published on a Monday?\n",
    "weekday_is_tuesday;Was the article published on a Tuesday?\n",
    "weekday_is_wednesday;Was the article published on a Wednesday?\n",
    "weekday_is_thursday;Was the article published on a Thursday?\n",
    "weekday_is_friday;Was the article published on a Friday?\n",
    "weekday_is_saturday;Was the article published on a Saturday?\n",
    "weekday_is_sunday;Was the article published on a Sunday?\n",
    "is_weekend;Was the article published on the weekend? \n",
    "LDA_00;Closeness to LDA topic 0 \n",
    "LDA_01;Closeness to LDA topic 1 \n",
    "LDA_02;Closeness to LDA topic 2 \n",
    "LDA_03;Closeness to LDA topic 3 \n",
    "LDA_04;Closeness to LDA topic 4\n",
    "global_subjectivity;Text subjectivity\n",
    "global_sentiment_polarity;Text sentiment polarity\n",
    "global_rate_positive_words;Rate of positive words in the content\n",
    "global_rate_negative_words;Rate of negative words in the content\n",
    "rate_positive_words;Rate of positive words among non-neutral tokens\n",
    "rate_negative_words;Rate of negative words among non-neutral tokens\n",
    "avg_positive_polarity;Avg. polarity of positive words\n",
    "min_positive_polarity;Min. polarity of positive words\n",
    "max_positive_polarity;Max. polarity of positive words\n",
    "avg_negative_polarity;Avg. polarity of negative  words\n",
    "min_negative_polarity;Min. polarity of negative  words\n",
    "max_negative_polarity;Max. polarity of negative  words\n",
    "title_subjectivity;Title subjectivity\n",
    "title_sentiment_polarity;Title polarity\n",
    "abs_title_subjectivity;Absolute subjectivity level\n",
    "abs_title_sentiment_polarity;Absolute polarity level\n",
    "shares;Number of shares (target)\"\"\""
   ]
  },
  {
   "cell_type": "code",
   "execution_count": 5,
   "id": "f80038df-5cf7-497e-83a3-8d9985095143",
   "metadata": {},
   "outputs": [],
   "source": [
    "data = data_str.split(\"\\n\")\n",
    "data_colwise = [x.split(\";\") for x in data]"
   ]
  },
  {
   "cell_type": "code",
   "execution_count": 6,
   "id": "d4203a1f-90b8-45b1-9459-64707c9b5879",
   "metadata": {},
   "outputs": [],
   "source": [
    "feature_names = [x[0] for x in data_colwise]\n",
    "feature_desc = [x[1] for x in data_colwise]"
   ]
  },
  {
   "cell_type": "code",
   "execution_count": 7,
   "id": "27fe5dff-d235-4cc3-9dcb-55a9932130ff",
   "metadata": {},
   "outputs": [],
   "source": [
    "feature_csv = pd.DataFrame()\n",
    "feature_csv[\"features\"] = feature_names\n",
    "feature_csv[\"descriptions\"] = feature_desc"
   ]
  },
  {
   "cell_type": "code",
   "execution_count": 33,
   "id": "78dde25a-e417-43fa-8106-04f6e2062be0",
   "metadata": {},
   "outputs": [],
   "source": [
    "feature_csv.to_csv(path_data_interim + \"features_list.csv\", index=False)"
   ]
  },
  {
   "cell_type": "code",
   "execution_count": 12,
   "id": "8e4fbcde-1706-4989-b121-11495d17b77f",
   "metadata": {},
   "outputs": [],
   "source": [
    "data_df = pd.read_csv(data_csv)"
   ]
  },
  {
   "cell_type": "code",
   "execution_count": 15,
   "id": "fc90648d-febf-4f17-b6d6-f8b05893d563",
   "metadata": {},
   "outputs": [],
   "source": [
    "data_df.head()\n",
    "data_df = data_df.rename(columns=lambda x: x.strip())"
   ]
  },
  {
   "cell_type": "code",
   "execution_count": 17,
   "id": "a4d9dd7a-609f-4aa8-acb6-d535f6fcc23b",
   "metadata": {},
   "outputs": [],
   "source": [
    "# data_df seems perfectly usable in its current form after updating the column names, so we simply copy the file to the interim data folder"
   ]
  },
  {
   "cell_type": "code",
   "execution_count": 16,
   "id": "4d182784-8f65-4914-aa66-d598dd15e0ef",
   "metadata": {},
   "outputs": [],
   "source": [
    "# from shutil import copyfile\n",
    "# copyfile(data_csv, path_data_interim + 'data.csv')\n",
    "data_df.to_csv(path_data_interim + 'data.csv', index=False)"
   ]
  },
  {
   "cell_type": "code",
   "execution_count": null,
   "id": "8be73a8e-8375-4bfa-afed-08e4f4389f00",
   "metadata": {},
   "outputs": [],
   "source": []
  }
 ],
 "metadata": {
  "kernelspec": {
   "display_name": "Python 3 (ipykernel)",
   "language": "python",
   "name": "python3"
  },
  "language_info": {
   "codemirror_mode": {
    "name": "ipython",
    "version": 3
   },
   "file_extension": ".py",
   "mimetype": "text/x-python",
   "name": "python",
   "nbconvert_exporter": "python",
   "pygments_lexer": "ipython3",
   "version": "3.9.7"
  }
 },
 "nbformat": 4,
 "nbformat_minor": 5
}
