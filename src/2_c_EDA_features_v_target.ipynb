{
 "cells": [
  {
   "cell_type": "code",
   "execution_count": 18,
   "id": "7aa50eb7-1549-42df-b3ee-d68c73828f31",
   "metadata": {},
   "outputs": [],
   "source": [
    "from project_paths import *\n",
    "\n",
    "import matplotlib\n",
    "from matplotlib import pylab as plt"
   ]
  },
  {
   "cell_type": "markdown",
   "id": "ad9fc6c7-1eb8-46c4-a613-6ddf857c3a68",
   "metadata": {},
   "source": [
    "#### We analyze how the target variable is related to each feature variable"
   ]
  },
  {
   "cell_type": "code",
   "execution_count": null,
   "id": "89cfa2f4-489e-48d4-af15-360f548d3138",
   "metadata": {},
   "outputs": [],
   "source": []
  }
 ],
 "metadata": {
  "kernelspec": {
   "display_name": "Python 3 (ipykernel)",
   "language": "python",
   "name": "python3"
  },
  "language_info": {
   "codemirror_mode": {
    "name": "ipython",
    "version": 3
   },
   "file_extension": ".py",
   "mimetype": "text/x-python",
   "name": "python",
   "nbconvert_exporter": "python",
   "pygments_lexer": "ipython3",
   "version": "3.9.7"
  }
 },
 "nbformat": 4,
 "nbformat_minor": 5
}
