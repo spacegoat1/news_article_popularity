{
 "cells": [
  {
   "cell_type": "code",
   "execution_count": 15,
   "id": "66c4cfbc-2b52-4e17-a99a-0a09aae89648",
   "metadata": {},
   "outputs": [],
   "source": [
    "from project_paths import *\n",
    "\n",
    "import pandas as pd\n",
    "import numpy as np\n",
    "import matplotlib.pyplot as plt\n",
    "\n",
    "from sklearn.model_selection import train_test_split, GroupShuffleSplit, GridSearchCV, KFold, ParameterGrid\n",
    "from sklearn.metrics import make_scorer, fbeta_score, accuracy_score\n",
    "from sklearn.preprocessing import OneHotEncoder, StandardScaler, MinMaxScaler\n",
    "from sklearn.compose import ColumnTransformer\n",
    "\n",
    "import xgboost\n",
    "from sklearn.inspection import permutation_importance"
   ]
  },
  {
   "cell_type": "code",
   "execution_count": 2,
   "id": "18e46cb8-6eaa-4193-ae62-25847c4cdcb6",
   "metadata": {},
   "outputs": [],
   "source": [
    "best_model = load_list_from_pkl('xgb_best_model.pkl')"
   ]
  },
  {
   "cell_type": "markdown",
   "id": "e1ec1f51-53cb-43ca-ab02-28ba55bd675a",
   "metadata": {},
   "source": [
    "### Feature importances according to XGBoost -> basic "
   ]
  },
  {
   "cell_type": "code",
   "execution_count": 12,
   "id": "7ea1e6b5-411f-4435-822d-b310fac08674",
   "metadata": {},
   "outputs": [
    {
     "data": {
      "text/plain": [
       "(60, 60)"
      ]
     },
     "execution_count": 12,
     "metadata": {},
     "output_type": "execute_result"
    }
   ],
   "source": [
    "len(best_model.feature_importances_), len(best_model.get_booster().feature_names)"
   ]
  },
  {
   "cell_type": "code",
   "execution_count": 13,
   "id": "5c1ceade-0ee5-4245-99ac-0cc2f57050e9",
   "metadata": {},
   "outputs": [],
   "source": [
    "X_other = load_list_from_pkl('X_other.pkl')\n",
    "y_other = load_list_from_pkl('y_other.pkl')\n",
    "X_holdout = load_list_from_pkl('X_holdout.pkl')\n",
    "y_holdout = load_list_from_pkl('y_holdout.pkl')"
   ]
  },
  {
   "cell_type": "code",
   "execution_count": 16,
   "id": "68d54f8e-91fd-47d2-8ae5-c77c12ac8c5e",
   "metadata": {},
   "outputs": [],
   "source": [
    "# Preprocessor\n",
    "onehot_ftrs = load_list_from_pkl('onehot_ftrs.pkl')\n",
    "minmax_ftrs = load_list_from_pkl('minmax_ftrs.pkl')\n",
    "standard_ftrs = load_list_from_pkl('standard_ftrs.pkl')\n",
    "\n",
    "preprocessor = ColumnTransformer(\n",
    "    transformers=[('onehot', OneHotEncoder(sparse=False, handle_unknown='ignore'), onehot_ftrs), \n",
    "                 ('minmax', MinMaxScaler(), minmax_ftrs),\n",
    "                 ('standard', StandardScaler(), standard_ftrs),])"
   ]
  },
  {
   "cell_type": "code",
   "execution_count": 17,
   "id": "82884823-5e5e-4752-a5ca-302ab7b6e72b",
   "metadata": {},
   "outputs": [
    {
     "name": "stdout",
     "output_type": "stream",
     "text": [
      "[20:27:36] WARNING: ../src/learner.cc:1061: Starting in XGBoost 1.3.0, the default evaluation metric used with the objective 'binary:logistic' was changed from 'error' to 'logloss'. Explicitly set eval_metric if you'd like to restore the old behavior.\n"
     ]
    },
    {
     "data": {
      "text/plain": [
       "XGBClassifier(base_score=0.5, booster='gbtree', colsample_bylevel=1,\n",
       "              colsample_bynode=1, colsample_bytree=0.9,\n",
       "              eval_metric=make_scorer(fbeta_score, beta=1.5), gamma=0,\n",
       "              gpu_id=-1, importance_type='gain', interaction_constraints='',\n",
       "              learning_rate=0.05, max_delta_step=0, max_depth=3,\n",
       "              min_child_weight=1, missing=nan, monotone_constraints='()',\n",
       "              n_estimators=1000, n_jobs=7, num_parallel_tree=1, random_state=10,\n",
       "              reg_alpha=0, reg_lambda=1, scale_pos_weight=1, seed=25,\n",
       "              subsample=0.66, tree_method='exact', use_label_encoder=False,\n",
       "              validate_parameters=1, verbosity=None)"
      ]
     },
     "execution_count": 17,
     "metadata": {},
     "output_type": "execute_result"
    }
   ],
   "source": [
    "m = best_model\n",
    "\n",
    "X_train_prep = preprocessor.fit_transform(X_other)\n",
    "X_test_prep = preprocessor.transform(X_holdout)\n",
    "y_train = y_other\n",
    "y_test = y_holdout\n",
    "feature_names = list(preprocessor.named_transformers_['onehot'].get_feature_names()) + \\\n",
    "            preprocessor.transformers[1][-1] + preprocessor.transformers[2][-1]\n",
    "df_train = pd.DataFrame(data=X_train_prep, columns = feature_names)\n",
    "df_test = pd.DataFrame(data=X_test_prep, columns = feature_names)\n",
    "\n",
    "RANDOM_STATE = 10\n",
    "eval_set = [(df_test, y_test)]\n",
    "m.random_state=RANDOM_STATE\n",
    "m.fit(df_train, y_train, early_stopping_rounds=50, eval_set=eval_set, verbose=False)"
   ]
  },
  {
   "cell_type": "markdown",
   "id": "28ddd5ab-b5ab-4f7c-ad39-eee264329457",
   "metadata": {
    "tags": []
   },
   "source": [
    "### Feature importance by random permutation"
   ]
  },
  {
   "cell_type": "code",
   "execution_count": 26,
   "id": "cb69eb4d-63fb-4736-b92d-c547d82d08ba",
   "metadata": {},
   "outputs": [],
   "source": [
    "result = permutation_importance(m, df_train, y_train, n_repeats=10, random_state=RANDOM_STATE)"
   ]
  },
  {
   "cell_type": "code",
   "execution_count": 36,
   "id": "e27fb7a0-9ab8-42d9-a1fd-28b8ef696c3c",
   "metadata": {},
   "outputs": [],
   "source": [
    "perm_importances = list(result['importances_mean'])\n",
    "perm_importances_fn = m.get_booster().feature_names\n",
    "perm_importances_dict = {n:i for n, i in zip(perm_importances_fn, perm_importances)}"
   ]
  },
  {
   "cell_type": "markdown",
   "id": "6bdbff25-7cb9-4163-b982-1d445d779026",
   "metadata": {},
   "source": [
    "### Feature importances using XGB total_gain and weight"
   ]
  },
  {
   "cell_type": "code",
   "execution_count": 28,
   "id": "c899ded1-b792-4d29-8ca4-02ea914a8d2e",
   "metadata": {},
   "outputs": [],
   "source": [
    "total_gain_scores = m.get_booster().get_score(importance_type='total_gain')\n",
    "weight_scores = m.get_booster().get_score(importance_type='weight')"
   ]
  },
  {
   "cell_type": "markdown",
   "id": "12c1100a-1563-4ba0-b8d0-e3e033b066dd",
   "metadata": {},
   "source": [
    "### Collating feature importances of each feature for each type"
   ]
  },
  {
   "cell_type": "code",
   "execution_count": 40,
   "id": "249dd5e1-2c59-481d-8199-8c70ce0120db",
   "metadata": {},
   "outputs": [],
   "source": [
    "feature_importances = {}\n",
    "for fn in feature_names:\n",
    "    feature_importances[fn] = {\n",
    "        'permutation': perm_importances_dict[fn],\n",
    "        'gain': total_gain_scores[fn],\n",
    "        'weight': weight_scores[fn],\n",
    "    }"
   ]
  },
  {
   "cell_type": "markdown",
   "id": "23859fb7-00a8-40bc-9d3d-c4d5d7f82e88",
   "metadata": {},
   "source": [
    "### Bar plot for feature importances"
   ]
  },
  {
   "cell_type": "code",
   "execution_count": 51,
   "id": "99bd22a8-71db-44e0-8a1c-778e1ae7e918",
   "metadata": {},
   "outputs": [],
   "source": [
    "# First find the top 10 by each metric\n",
    "most_important_features = []\n",
    "for t in ['permutation', 'gain', 'weight']:\n",
    "    type_dict = {k: v[t] for k, v in feature_importances.items()}\n",
    "    most_important_features += [k for k, v in sorted(type_dict.items(), key=lambda item: item[1])[:10]]\n",
    "\n",
    "most_important_features = list(set(most_important_features))"
   ]
  },
  {
   "cell_type": "code",
   "execution_count": 75,
   "id": "971a00a1-607a-47f3-b96f-b248dc85a9a6",
   "metadata": {},
   "outputs": [
    {
     "data": {
      "image/png": "[encoded data removed]",
      "text/plain": [
       "<Figure size 864x432 with 1 Axes>"
      ]
     },
     "metadata": {
      "needs_background": "light"
     },
     "output_type": "display_data"
    },
    {
     "data": {
      "text/plain": [
       "<Figure size 432x288 with 0 Axes>"
      ]
     },
     "metadata": {},
     "output_type": "display_data"
    }
   ],
   "source": [
    "# Ygirls = [10,20,20,40]\n",
    "# Zboys = [20,30,25,30]\n",
    "perm_scores = [feature_importances[f]['permutation'] for f in most_important_features]\n",
    "perm_scores = [x/np.mean(perm_scores) for x in perm_scores]\n",
    "total_gain_scores = [feature_importances[f]['gain'] for f in most_important_features]\n",
    "total_gain_scores = [x/np.mean(total_gain_scores) for x in total_gain_scores]\n",
    "weight_scores = [feature_importances[f]['weight'] for f in most_important_features]\n",
    "weight_scores = [x/np.mean(weight_scores) for x in weight_scores]\n",
    "  \n",
    "X_axis = np.arange(len(most_important_features))\n",
    "\n",
    "f, ax = plt.subplots(figsize=(12,6))\n",
    "plt.bar(X_axis - 0.2, perm_scores, 0.2, label = 'Permutation Imp')\n",
    "plt.bar(X_axis + 0.0, total_gain_scores, 0.2, label = 'Total Gain Imp')\n",
    "plt.bar(X_axis + 0.2, weight_scores, 0.2, label = 'Weight Imp')\n",
    "  \n",
    "plt.xticks(X_axis, most_important_features)\n",
    "plt.xlabel(\"Features\", fontsize=16)\n",
    "plt.xticks(fontsize=12, rotation=80)\n",
    "plt.ylabel(\"Importance\", fontsize=16)\n",
    "plt.title(\"Global feature importances by different metrics\", fontsize=20)\n",
    "plt.legend()\n",
    "plt.show()\n",
    "plt.savefig(figures_dir + 'feature_importances.png', bbox_inches='tight')"
   ]
  },
  {
   "cell_type": "code",
   "execution_count": null,
   "id": "35384df7-eae0-4e81-8ede-6d9891ee7a2b",
   "metadata": {},
   "outputs": [],
   "source": []
  }
 ],
 "metadata": {
  "kernelspec": {
   "display_name": "Python 3 (ipykernel)",
   "language": "python",
   "name": "python3"
  },
  "language_info": {
   "codemirror_mode": {
    "name": "ipython",
    "version": 3
   },
   "file_extension": ".py",
   "mimetype": "text/x-python",
   "name": "python",
   "nbconvert_exporter": "python",
   "pygments_lexer": "ipython3",
   "version": "3.9.7"
  }
 },
 "nbformat": 4,
 "nbformat_minor": 5
}
