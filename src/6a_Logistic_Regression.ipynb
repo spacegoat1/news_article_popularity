{
 "cells": [
  {
   "cell_type": "code",
   "execution_count": 14,
   "id": "74844fef-b1e3-42c2-b09e-b6dcc299abd5",
   "metadata": {},
   "outputs": [],
   "source": [
    "import numpy as np\n",
    "from sklearn.linear_model import LogisticRegression\n",
    "from project_paths import *\n",
    "import pandas as pd\n",
    "\n",
    "from sklearn.metrics import precision_score, recall_score, accuracy_score, fbeta_score"
   ]
  },
  {
   "cell_type": "code",
   "execution_count": 9,
   "id": "e6164082-739f-4584-937d-84c64e17330d",
   "metadata": {},
   "outputs": [],
   "source": [
    "# Load preprocessed data\n",
    "X_train = load_preprocessed_data(preprocessed_data_path_train)\n",
    "y_train = load_preprocessed_data(preprocessed_data_y_train)\n",
    "X_val = load_preprocessed_data(preprocessed_data_path_val)\n",
    "y_val = load_preprocessed_data(preprocessed_data_y_val)\n",
    "# all_features_pp = load_list_from_pkl('processed_features_list.pkl')"
   ]
  },
  {
   "cell_type": "code",
   "execution_count": 19,
   "id": "9f92eaff-ac1e-4c43-9c72-a35f5b1e5417",
   "metadata": {},
   "outputs": [],
   "source": [
    "reg = LogisticRegression(max_iter=10000, solver='saga')\n",
    "reg.fit(X_train,y_train)\n",
    "y_val_pred = reg.predict(X_val)"
   ]
  },
  {
   "cell_type": "code",
   "execution_count": 20,
   "id": "fedc50dc-65aa-4426-aca9-1a12218ef73a",
   "metadata": {},
   "outputs": [
    {
     "name": "stdout",
     "output_type": "stream",
     "text": [
      "accuracy 0.656912209889001\n",
      "recall 0.6356668369954012\n",
      "precision 0.6578529878371232\n",
      "f1 0.6465696465696466\n"
     ]
    }
   ],
   "source": [
    "# y_val_pred\n",
    "print('accuracy', accuracy_score(y_val, y_val_pred))\n",
    "print('recall',recall_score(y_val, y_val_pred))\n",
    "print('precision',precision_score(y_val, y_val_pred))\n",
    "print('f1',fbeta_score(y_val, y_val_pred, beta=1))"
   ]
  },
  {
   "cell_type": "markdown",
   "id": "05421b46-e326-44ff-bca2-65f1c3a99564",
   "metadata": {},
   "source": [
    "Qn for TA\n",
    "\n",
    "Should I set the p_crit threshold for logistic regression as a hyperparameter to be tuned?"
   ]
  },
  {
   "cell_type": "code",
   "execution_count": 21,
   "id": "96f5a1f6-857e-4748-b7ba-d38cbd55309d",
   "metadata": {},
   "outputs": [
    {
     "name": "stdout",
     "output_type": "stream",
     "text": [
      "accuracy 0.656912209889001\n",
      "recall 0.6356668369954012\n",
      "precision 0.6578529878371232\n",
      "f1 0.6465696465696466\n"
     ]
    }
   ],
   "source": [
    "reg = LogisticRegression(max_iter=10000, solver='saga', penalty='l1', C=1.0)\n",
    "reg.fit(X_train,y_train)\n",
    "y_val_pred = reg.predict(X_val)\n",
    "# y_val_pred\n",
    "print('accuracy', accuracy_score(y_val, y_val_pred))\n",
    "print('recall',recall_score(y_val, y_val_pred))\n",
    "print('precision',precision_score(y_val, y_val_pred))\n",
    "print('f1',fbeta_score(y_val, y_val_pred, beta=1))"
   ]
  },
  {
   "cell_type": "code",
   "execution_count": null,
   "id": "9623889d-26c5-4b15-92f7-e758468e2f38",
   "metadata": {},
   "outputs": [],
   "source": []
  }
 ],
 "metadata": {
  "kernelspec": {
   "display_name": "Python 3 (ipykernel)",
   "language": "python",
   "name": "python3"
  },
  "language_info": {
   "codemirror_mode": {
    "name": "ipython",
    "version": 3
   },
   "file_extension": ".py",
   "mimetype": "text/x-python",
   "name": "python",
   "nbconvert_exporter": "python",
   "pygments_lexer": "ipython3",
   "version": "3.9.7"
  }
 },
 "nbformat": 4,
 "nbformat_minor": 5
}
